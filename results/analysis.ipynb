{
 "cells": [
  {
   "cell_type": "code",
   "execution_count": 1,
   "metadata": {},
   "outputs": [],
   "source": [
    "import pandas as pd\n",
    "import matplotlib.pyplot as plt"
   ]
  },
  {
   "cell_type": "code",
   "execution_count": 2,
   "metadata": {},
   "outputs": [
    {
     "data": {
      "text/html": [
       "<div>\n",
       "<style scoped>\n",
       "    .dataframe tbody tr th:only-of-type {\n",
       "        vertical-align: middle;\n",
       "    }\n",
       "\n",
       "    .dataframe tbody tr th {\n",
       "        vertical-align: top;\n",
       "    }\n",
       "\n",
       "    .dataframe thead th {\n",
       "        text-align: right;\n",
       "    }\n",
       "</style>\n",
       "<table border=\"1\" class=\"dataframe\">\n",
       "  <thead>\n",
       "    <tr style=\"text-align: right;\">\n",
       "      <th></th>\n",
       "      <th>model</th>\n",
       "      <th>n_params</th>\n",
       "      <th>loss</th>\n",
       "      <th>acc</th>\n",
       "      <th>info</th>\n",
       "      <th>path</th>\n",
       "    </tr>\n",
       "  </thead>\n",
       "  <tbody>\n",
       "    <tr>\n",
       "      <th>0</th>\n",
       "      <td>Transformer</td>\n",
       "      <td>2425118</td>\n",
       "      <td>0.414574</td>\n",
       "      <td>0.881053</td>\n",
       "      <td>{'Spectrogram': 'Normal', 'Regularization': 'D...</td>\n",
       "      <td>Transformer1.weights.h5</td>\n",
       "    </tr>\n",
       "    <tr>\n",
       "      <th>1</th>\n",
       "      <td>Transformer</td>\n",
       "      <td>4530462</td>\n",
       "      <td>0.337038</td>\n",
       "      <td>0.915435</td>\n",
       "      <td>{'Spectrogram': 'Normal', 'Regularization': 'D...</td>\n",
       "      <td>Transformer2.weights.h5</td>\n",
       "    </tr>\n",
       "    <tr>\n",
       "      <th>2</th>\n",
       "      <td>Transformer</td>\n",
       "      <td>6633758</td>\n",
       "      <td>0.390747</td>\n",
       "      <td>0.912363</td>\n",
       "      <td>{'Spectrogram': 'Normal', 'Regularization': 'D...</td>\n",
       "      <td>Transformer3.weights.h5</td>\n",
       "    </tr>\n",
       "    <tr>\n",
       "      <th>3</th>\n",
       "      <td>Transformer</td>\n",
       "      <td>26243614</td>\n",
       "      <td>0.358854</td>\n",
       "      <td>0.917045</td>\n",
       "      <td>{'Spectrogram': 'Normal', 'Regularization': 'D...</td>\n",
       "      <td>Transformer4.weights.h5</td>\n",
       "    </tr>\n",
       "    <tr>\n",
       "      <th>4</th>\n",
       "      <td>Transformer</td>\n",
       "      <td>2425118</td>\n",
       "      <td>0.393832</td>\n",
       "      <td>0.892465</td>\n",
       "      <td>{'Spectrogram': 'Log-Mel', 'Regularization': '...</td>\n",
       "      <td>Transformer5.weights.h5</td>\n",
       "    </tr>\n",
       "  </tbody>\n",
       "</table>\n",
       "</div>"
      ],
      "text/plain": [
       "         model  n_params      loss       acc  \\\n",
       "0  Transformer   2425118  0.414574  0.881053   \n",
       "1  Transformer   4530462  0.337038  0.915435   \n",
       "2  Transformer   6633758  0.390747  0.912363   \n",
       "3  Transformer  26243614  0.358854  0.917045   \n",
       "4  Transformer   2425118  0.393832  0.892465   \n",
       "\n",
       "                                                info                     path  \n",
       "0  {'Spectrogram': 'Normal', 'Regularization': 'D...  Transformer1.weights.h5  \n",
       "1  {'Spectrogram': 'Normal', 'Regularization': 'D...  Transformer2.weights.h5  \n",
       "2  {'Spectrogram': 'Normal', 'Regularization': 'D...  Transformer3.weights.h5  \n",
       "3  {'Spectrogram': 'Normal', 'Regularization': 'D...  Transformer4.weights.h5  \n",
       "4  {'Spectrogram': 'Log-Mel', 'Regularization': '...  Transformer5.weights.h5  "
      ]
     },
     "execution_count": 2,
     "metadata": {},
     "output_type": "execute_result"
    }
   ],
   "source": [
    "df = pd.read_csv('results.csv', sep=\";\")\n",
    "df.head()"
   ]
  },
  {
   "cell_type": "code",
   "execution_count": 3,
   "metadata": {},
   "outputs": [
    {
     "data": {
      "text/plain": [
       "0       2425118\n",
       "1       4530462\n",
       "2       6633758\n",
       "3      26243614\n",
       "4       2425118\n",
       "5       4530462\n",
       "6       6633758\n",
       "7      26243614\n",
       "8     115520286\n",
       "9       2425118\n",
       "10      4530462\n",
       "11      6633758\n",
       "12     26243614\n",
       "13      2425118\n",
       "14      2425118\n",
       "15      6633758\n",
       "16     13638174\n",
       "Name: n_params, dtype: int64"
      ]
     },
     "execution_count": 3,
     "metadata": {},
     "output_type": "execute_result"
    }
   ],
   "source": [
    "df[\"n_params\"]"
   ]
  },
  {
   "cell_type": "code",
   "execution_count": null,
   "metadata": {},
   "outputs": [],
   "source": []
  },
  {
   "cell_type": "code",
   "execution_count": null,
   "metadata": {},
   "outputs": [],
   "source": []
  },
  {
   "cell_type": "code",
   "execution_count": null,
   "metadata": {},
   "outputs": [],
   "source": []
  }
 ],
 "metadata": {
  "kernelspec": {
   "display_name": "base",
   "language": "python",
   "name": "python3"
  },
  "language_info": {
   "codemirror_mode": {
    "name": "ipython",
    "version": 3
   },
   "file_extension": ".py",
   "mimetype": "text/x-python",
   "name": "python",
   "nbconvert_exporter": "python",
   "pygments_lexer": "ipython3",
   "version": "3.10.12"
  }
 },
 "nbformat": 4,
 "nbformat_minor": 2
}
